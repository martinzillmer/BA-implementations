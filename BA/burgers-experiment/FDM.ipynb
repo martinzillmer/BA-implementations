{
 "cells": [
  {
   "cell_type": "code",
   "execution_count": null,
   "id": "blank-amber",
   "metadata": {},
   "outputs": [],
   "source": [
    "import numpy as np\n",
    "import matplotlib.pyplot as plt\n",
    "from skfdiff import Model, Simulation\n",
    "import pylab as pl\n",
    "import numpy as np\n",
    "from scipy.signal.windows import gaussian"
   ]
  },
  {
   "attachments": {},
   "cell_type": "markdown",
   "id": "experienced-penetration",
   "metadata": {},
   "source": [
    "### Define PDE and domain\n",
    "\n",
    "$\\frac{\\partial u}{\\partial t}+ u \\frac{\\partial u}{\\partial x} = v \\frac{\\partial^2 u}{\\partial x},\\quad x\\in[-1,1],\\text{ }t\\in[0,1]$\n",
    "\n",
    "##### Boundary and initial conditions\n",
    "\n",
    "$u(-1,t)=u(1,t)=0$\n",
    "\n",
    "$u(x,0)=-sin(\\pi x)$"
   ]
  },
  {
   "cell_type": "code",
   "execution_count": null,
   "id": "assigned-edmonton",
   "metadata": {},
   "outputs": [],
   "source": [
    "bc = {\"u\": {\"x\": (\"0\", \"0\")}}\n",
    "\n",
    "model = Model(\"-u * dxu + v * dxxu\",\n",
    "              unknowns=\"u(x)\",\n",
    "              parameters=\"v\",\n",
    "              boundary_conditions=bc\n",
    ")\n",
    "\n"
   ]
  },
  {
   "attachments": {},
   "cell_type": "markdown",
   "id": "e26669cd",
   "metadata": {},
   "source": [
    "order: determines grid distance h, which is halfed with each order"
   ]
  },
  {
   "cell_type": "code",
   "execution_count": null,
   "id": "floppy-karaoke",
   "metadata": {},
   "outputs": [],
   "source": [
    "order = 7\n",
    "time_step = 0.01/(2**order)\n",
    "n_xs = 255*(2**order)+1\n",
    "print(f\"mesh: {time_step}* {1/n_xs}]\")\n"
   ]
  },
  {
   "attachments": {},
   "cell_type": "markdown",
   "id": "comprehensive-leonard",
   "metadata": {},
   "source": [
    "# Interpolation"
   ]
  },
  {
   "cell_type": "code",
   "execution_count": null,
   "id": "finite-value",
   "metadata": {},
   "outputs": [],
   "source": [
    "# interpolation\n",
    "x = np.concatenate([np.array([-1]),\n",
    "                    np.arange(-1,1,2/(n_xs-1)) + 1/(n_xs-1),\n",
    "                    np.array([1])])\n",
    "print(f\"indre gitter størrelse: {len(np.arange(-1,1,2/(n_xs-1)))}\")\n",
    "U = -np.sin(np.pi*x)\n",
    "v = 0.01/np.pi\n",
    "initial_fields = model.Fields(x=x, u=U, v=v)\n",
    "simulation = Simulation(model, initial_fields, dt=time_step/2, tmax=1, id=\"test\")\n",
    "initial_fields[\"u\"].plot()"
   ]
  },
  {
   "cell_type": "code",
   "execution_count": null,
   "id": "particular-garbage",
   "metadata": {},
   "outputs": [],
   "source": [
    "1/time_step"
   ]
  },
  {
   "cell_type": "code",
   "execution_count": null,
   "id": "formal-needle",
   "metadata": {},
   "outputs": [],
   "source": [
    "import time\n",
    "container = simulation.attach_container()\n",
    "start = time.time()\n",
    "tmax, final_fields = simulation.run()\n",
    "stop =  time.time() - start\n",
    "print(stop)"
   ]
  },
  {
   "cell_type": "code",
   "execution_count": null,
   "id": "sunset-albert",
   "metadata": {},
   "outputs": [],
   "source": [
    "data=container.data\n",
    "z = data[\"u\"].to_numpy()\n",
    "z.shape"
   ]
  },
  {
   "cell_type": "code",
   "execution_count": null,
   "id": "false-arthur",
   "metadata": {},
   "outputs": [],
   "source": [
    "# order 3\n",
    "filt_x = np.array([True] + ([True]+ [False]*(2**order-1) )*255 + 2*[True])\n",
    "filt_t = np.array( ([True]+ [False]*(2**(order-1)-1) )*100 + [False])\n",
    "print(filt_x.shape)\n",
    "print(filt_t.shape)\n",
    "data=container.data\n",
    "z = data[\"u\"].to_numpy()\n",
    "print(z.shape)\n",
    "z = z[:,filt_x]\n",
    "z = z[filt_t,:]\n",
    "print(z.shape)\n",
    "\n",
    "for t in range():\n",
    "    pass"
   ]
  },
  {
   "attachments": {},
   "cell_type": "markdown",
   "id": "assured-satellite",
   "metadata": {},
   "source": [
    "# On Grid "
   ]
  },
  {
   "cell_type": "code",
   "execution_count": null,
   "id": "complete-magnitude",
   "metadata": {},
   "outputs": [],
   "source": [
    "# on grid\n",
    "x = np.linspace(-1, 1, n_xs -1) + 1/(n_xs*2) \n",
    "U = -np.sin(np.pi*x)\n",
    "v = 0.01/np.pi\n",
    "initial_fields = model.Fields(x=x, u=U, v=v)\n",
    "simulation = Simulation(model, initial_fields, dt=time_step, tmax=1, id=\"test\")\n",
    "initial_fields[\"u\"].plot()"
   ]
  },
  {
   "cell_type": "code",
   "execution_count": null,
   "id": "white-album",
   "metadata": {},
   "outputs": [],
   "source": [
    "import time\n",
    "container = simulation.attach_container()\n",
    "start = time.time()\n",
    "tmax, final_fields = simulation.run()\n",
    "stop =  time.time() - start\n",
    "print(stop)"
   ]
  },
  {
   "cell_type": "code",
   "execution_count": null,
   "id": "vocal-fortune",
   "metadata": {},
   "outputs": [],
   "source": [
    "filt_x = np.array( ([True]+ [False]*(2**order-1) )*255 + [True])\n",
    "filt_t = np.array( ([True]+ [False]*(2**order-1) )*100 + [False])\n",
    "\n",
    "data=container.data\n",
    "z = data[\"u\"].to_numpy()\n",
    "print(z.shape)\n",
    "z = z[:,filt_x]\n",
    "z = z[filt_t,:]\n",
    "print(z.shape)\n",
    "\n",
    "t = np.linspace(0,1,101)[:-1]\n",
    "x = np.linspace(-1,1,256)\n",
    "xx,tt = np.meshgrid(x,t)\n",
    "\n",
    "_, y_true = gen_testdata()\n",
    "err = np.abs(z - y_true)\n",
    "max_err = err.max()\n",
    "avg_err = err.mean()\n",
    "print(f\"max error: {max_err},\\n average error: {avg_err}\")"
   ]
  },
  {
   "cell_type": "code",
   "execution_count": null,
   "id": "august-building",
   "metadata": {},
   "outputs": [],
   "source": [
    "filt_x = np.array([True, False]*255+[True])\n",
    "filt_t = np.array([True, False]*100+[False])\n",
    "\n",
    "data=container.data\n",
    "z = data[\"u\"].to_numpy()\n",
    "z = z[:,filt_x]\n",
    "z = z[filt_t,:]\n",
    "print(z.shape)\n",
    "\n",
    "t = np.linspace(0,1,101)[:-1]\n",
    "x = np.linspace(-1,1,256)\n",
    "xx,tt = np.meshgrid(x,t)\n",
    "\n",
    "_, y_true = gen_testdata()\n",
    "err = np.abs(z - y_true)\n",
    "max_err = err.max()\n",
    "avg_err = err.mean()\n",
    "max_err, avg_err"
   ]
  },
  {
   "cell_type": "code",
   "execution_count": null,
   "id": "coated-drilling",
   "metadata": {},
   "outputs": [],
   "source": [
    "fig, (ax1, ax2) = plt.subplots(ncols=2)\n",
    "fig.set_size_inches(16, 6)\n",
    "\n",
    "cs0 = ax1.contourf(xx,tt,z, levels=1000, cmap=\"rainbow\")\n",
    "fig.colorbar(cs0, ax=ax1, label=r\"$u(x,t)$\")\n",
    "ax2.set_title(\"FDM prediction\", fontsize=16)\n",
    "ax2.set_xlabel(\"x\", fontsize=14)\n",
    "ax2.set_tlabel(\"t\", fontsize=14)\n",
    "\n",
    "\n",
    "cs1 = ax2.contourf(xx,tt,err, levels=1000, cmap=\"rainbow\")\n",
    "ax2.set_title(\"FDM error\", fontsize=16)\n",
    "ax2.set_xlabel(\"x\", fontsize=14)\n",
    "ax2.set_tlabel(\"t\", fontsize=14)\n",
    "\n",
    "fig.colorbar(cs1, ax=ax2, label=\"absolute error\")\n",
    "\n",
    "plt.savefig(\"FDM_burgers_err.png\",\n",
    "           facecolor=\"white\")\n"
   ]
  },
  {
   "cell_type": "code",
   "execution_count": null,
   "id": "comfortable-probe",
   "metadata": {},
   "outputs": [],
   "source": [
    "def gen_testdata():\n",
    "    data = np.load(\"Burgers.npz\")\n",
    "    t, x, exact = data[\"t\"], data[\"x\"], data[\"usol\"].T\n",
    "    print(t.shape,x.shape)\n",
    "    xx, tt = np.meshgrid(x,t)\n",
    "    X = np.vstack((np.ravel(xx), np.ravel(tt))).T\n",
    "    y = exact\n",
    "    return X, y"
   ]
  },
  {
   "cell_type": "code",
   "execution_count": null,
   "id": "superior-kazakhstan",
   "metadata": {},
   "outputs": [],
   "source": [
    "\n",
    "_, y_true = gen_testdata()"
   ]
  },
  {
   "cell_type": "code",
   "execution_count": null,
   "id": "aboriginal-timeline",
   "metadata": {},
   "outputs": [],
   "source": []
  },
  {
   "attachments": {},
   "cell_type": "markdown",
   "id": "white-ability",
   "metadata": {},
   "source": [
    "# FDM theory Example"
   ]
  },
  {
   "cell_type": "code",
   "execution_count": null,
   "id": "egyptian-condition",
   "metadata": {},
   "outputs": [],
   "source": [
    "b = np.array([2,0,0,2*np.exp(3*2)])\n",
    "#b = np.zeros(5)\n",
    "A = np.zeros((4,4))\n",
    "for i in range(1,3):\n",
    "    A[i,i] = -15/2\n",
    "    A[i,i-1] = 3\n",
    "    A[i,i+1] = 3/2\n",
    "    \n",
    "A[0,0] = 1\n",
    "A[3,3] = 1\n",
    "\n",
    "y = np.linalg.solve(A, b)"
   ]
  },
  {
   "cell_type": "code",
   "execution_count": null,
   "id": "quick-atmosphere",
   "metadata": {},
   "outputs": [],
   "source": [
    "b2 = np.array([2,0,0,0,0,0,2*np.exp(3*2)])\n",
    "#b = np.zeros(5)\n",
    "A2 = np.zeros((7,7))\n",
    "for i in range(1,6):\n",
    "    A2[i,i+1] = 6 \n",
    "    A2[i,i]   = -21\n",
    "    A2[i,i-1] = 12\n",
    "    \n",
    "A2[0,0] = 1\n",
    "A2[6,6] = 1\n",
    "\n",
    "y2 = np.linalg.solve(A2, b2)"
   ]
  },
  {
   "cell_type": "code",
   "execution_count": null,
   "id": "roman-paint",
   "metadata": {},
   "outputs": [],
   "source": [
    "x = np.array([0, 2/3, 4/3, 2])\n",
    "x2 = np.arange(0,2.01,1/3)\n",
    "xs = np.linspace(0,2,1001)\n",
    "f = lambda x: 2*np.exp(3*x)"
   ]
  },
  {
   "cell_type": "code",
   "execution_count": null,
   "id": "russian-september",
   "metadata": {},
   "outputs": [],
   "source": [
    "x2"
   ]
  },
  {
   "cell_type": "code",
   "execution_count": null,
   "id": "respected-residence",
   "metadata": {},
   "outputs": [],
   "source": [
    "import matplotlib.pyplot as plt\n",
    "plt.rcParams['text.usetex'] = True\n",
    "plt.rcParams['figure.facecolor'] = 'white'\n",
    "plt.tight_layout()\n",
    "plt.scatter(x,y, label=\"FDM, $h=2/3$\")\n",
    "plt.scatter(x2,y2,label=\"FDM, $h=1/3$\", color=\"red\")\n",
    "plt.plot(xs,f(xs), label=\"Latent function: $2e^{3x}$\", color=\"orange\", linestyle=\"--\")\n",
    "plt.legend(fontsize=14)\n",
    "plt.title(\"FDM approximation\")\n",
    "plt.xlabel(\"x\", fontsize=12)\n",
    "plt.ylabel(\"f(x)\", fontsize=12)\n",
    "#plt.yscale(\"log\")\n",
    "plt.savefig(\"/Users/martin/Library/Mobile Documents/com~apple~CloudDocs/Uni/BA/figurer/FDM_approx.png\")"
   ]
  },
  {
   "cell_type": "code",
   "execution_count": null,
   "id": "concerned-segment",
   "metadata": {},
   "outputs": [],
   "source": []
  },
  {
   "cell_type": "code",
   "execution_count": null,
   "id": "improving-portugal",
   "metadata": {},
   "outputs": [],
   "source": [
    "result = np.arange(0,5,1)"
   ]
  }
 ],
 "metadata": {
  "kernelspec": {
   "display_name": "Python 3",
   "language": "python",
   "name": "python3"
  },
  "language_info": {
   "codemirror_mode": {
    "name": "ipython",
    "version": 3
   },
   "file_extension": ".py",
   "mimetype": "text/x-python",
   "name": "python",
   "nbconvert_exporter": "python",
   "pygments_lexer": "ipython3",
   "version": "3.10.11"
  }
 },
 "nbformat": 4,
 "nbformat_minor": 5
}
